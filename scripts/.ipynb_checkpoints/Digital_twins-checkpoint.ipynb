{
 "cells": [
  {
   "cell_type": "code",
   "execution_count": 3,
   "id": "57c051f3",
   "metadata": {},
   "outputs": [
    {
     "name": "stdout",
     "output_type": "stream",
     "text": [
      "### Digital Twin: Aeronautical Sensor Manufacturing ###\n"
     ]
    },
    {
     "data": {
      "application/vnd.jupyter.widget-view+json": {
       "model_id": "f3a8b329e40f45e9803371c80adf88d7",
       "version_major": 2,
       "version_minor": 0
      },
      "text/plain": [
       "interactive(children=(Dropdown(description='Equipment:', options=(None, 'Equipment_1', 'Equipment_2', 'Equipme…"
      ]
     },
     "metadata": {},
     "output_type": "display_data"
    },
    {
     "data": {
      "text/plain": [
       "<function __main__.filter_and_analyze(equipment=None, step=None, technician=None, month=None, sensor_type=None)>"
      ]
     },
     "execution_count": 3,
     "metadata": {},
     "output_type": "execute_result"
    }
   ],
   "source": [
    "import pandas as pd\n",
    "import matplotlib.pyplot as plt\n",
    "import seaborn as sns\n",
    "from ipywidgets import interact, widgets\n",
    "import plotly.express as px\n",
    "from faker import Faker\n",
    "\n",
    "# Dashboard Title\n",
    "print(\"### Digital Twin: Aeronautical Sensor Manufacturing ###\")\n",
    "\n",
    "# Configurar Faker\n",
    "faker = Faker()\n",
    "\n",
    "# Generar una lista limitada de técnicos\n",
    "technicians = [faker.first_name() for _ in range(12)]\n",
    "\n",
    "# Cargar los datos simulados\n",
    "data = pd.read_csv(\"C:/Digital_twins/data/large_simulated_equipment_data_with_centrals.csv\")\n",
    "\n",
    "# Reemplazar los técnicos en el dataset por la lista limitada\n",
    "data['Technician'] = [technicians[i % len(technicians)] for i in range(len(data))]\n",
    "\n",
    "# Función para filtrar y analizar datos\n",
    "def filter_and_analyze(equipment=None, step=None, technician=None, month=None, sensor_type=None):\n",
    "    filtered_data = data.copy()\n",
    "\n",
    "    # Aplicar filtros según los valores seleccionados\n",
    "    if equipment:\n",
    "        filtered_data = filtered_data[filtered_data[\"Equipment\"] == equipment]\n",
    "    if step:\n",
    "        filtered_data = filtered_data[filtered_data[\"Step\"] == step]\n",
    "    if technician:\n",
    "        filtered_data = filtered_data[filtered_data[\"Technician\"] == technician]\n",
    "    if month:\n",
    "        filtered_data = filtered_data[filtered_data[\"Month\"] == month]\n",
    "    if sensor_type:\n",
    "        filtered_data = filtered_data[filtered_data[\"Type\"] == sensor_type]\n",
    "\n",
    "    # Validar si hay datos\n",
    "    if filtered_data.empty:\n",
    "        print(\"No data available for the selected filters.\")\n",
    "        return\n",
    "\n",
    "    # Tabla de datos filtrados\n",
    "    print(\"Filtered Data:\")\n",
    "    display(filtered_data.head(10))\n",
    "\n",
    "    # Gráfico: Comparación de tiempos estimados vs reales\n",
    "    plt.figure(figsize=(10, 6))\n",
    "    filtered_data_melted = filtered_data.melt(\n",
    "        id_vars=[\"Step\"], \n",
    "        value_vars=[\"Estimated_Time\", \"Real_Time\"], \n",
    "        var_name=\"Time_Type\", \n",
    "        value_name=\"Time\"\n",
    "    )\n",
    "    sns.barplot(data=filtered_data_melted, x=\"Step\", y=\"Time\", hue=\"Time_Type\", dodge=True, palette=\"Set2\")\n",
    "    plt.title(\"Real vs Estimated Time by Step\")\n",
    "    plt.xlabel(\"Step\")\n",
    "    plt.ylabel(\"Time (minutes)\")\n",
    "    plt.xticks(rotation=45)\n",
    "    plt.legend(title=\"Time Type\")\n",
    "    plt.show()\n",
    "\n",
    "    # Gráfico: Resultados agregados (Pass vs Fail)\n",
    "    plt.figure(figsize=(8, 5))\n",
    "    sns.countplot(data=filtered_data, x=\"Result\", hue=\"Type\")\n",
    "    plt.title(\"Result Distribution by Sensor Type\")\n",
    "    plt.xlabel(\"Result\")\n",
    "    plt.ylabel(\"Count\")\n",
    "    plt.legend(title=\"Sensor Type\")\n",
    "    plt.show()\n",
    "\n",
    "    # Producción por mes (Gráfico interactivo con Plotly)\n",
    "    month_data = filtered_data.groupby(\"Month\")[[\"Equipment\"]].nunique().reset_index()\n",
    "    month_data.columns = [\"Month\", \"Number of Equipment\"]\n",
    "\n",
    "    fig = px.bar(month_data, x=\"Month\", y=\"Number of Equipment\", \n",
    "                 title=\"Production by Month\", \n",
    "                 labels={\"Number of Equipment\": \"Number of Equipment Produced\"},\n",
    "                 hover_data={\"Month\": True, \"Number of Equipment\": True})\n",
    "    fig.update_layout(xaxis_title=\"Month\", yaxis_title=\"Number of Equipment Produced\")\n",
    "    fig.show()\n",
    "\n",
    "# Widgets interactivos\n",
    "equipment_widget = widgets.Dropdown(\n",
    "    options=[None] + list(data[\"Equipment\"].unique()),\n",
    "    description=\"Equipment:\",\n",
    "    style={\"description_width\": \"initial\"}\n",
    ")\n",
    "\n",
    "step_widget = widgets.Dropdown(\n",
    "    options=[None] + list(data[\"Step\"].unique()),\n",
    "    description=\"Step:\",\n",
    "    style={\"description_width\": \"initial\"}\n",
    ")\n",
    "\n",
    "technician_widget = widgets.Dropdown(\n",
    "    options=[None] + technicians,\n",
    "    description=\"Technician:\",\n",
    "    style={\"description_width\": \"initial\"}\n",
    ")\n",
    "\n",
    "month_widget = widgets.Dropdown(\n",
    "    options=[None] + list(data[\"Month\"].unique()),\n",
    "    description=\"Month:\",\n",
    "    style={\"description_width\": \"initial\"}\n",
    ")\n",
    "\n",
    "sensor_type_widget = widgets.Dropdown(\n",
    "    options=[None] + list(data[\"Type\"].unique()),\n",
    "    description=\"Sensor Type:\",\n",
    "    style={\"description_width\": \"initial\"}\n",
    ")\n",
    "\n",
    "# Interactividad\n",
    "interact(filter_and_analyze, \n",
    "         equipment=equipment_widget, \n",
    "         step=step_widget, \n",
    "         technician=technician_widget, \n",
    "         month=month_widget, \n",
    "         sensor_type=sensor_type_widget)\n"
   ]
  },
  {
   "cell_type": "code",
   "execution_count": null,
   "id": "5e030beb",
   "metadata": {},
   "outputs": [],
   "source": []
  }
 ],
 "metadata": {
  "kernelspec": {
   "display_name": "Python (base)",
   "language": "python",
   "name": "base"
  },
  "language_info": {
   "codemirror_mode": {
    "name": "ipython",
    "version": 3
   },
   "file_extension": ".py",
   "mimetype": "text/x-python",
   "name": "python",
   "nbconvert_exporter": "python",
   "pygments_lexer": "ipython3",
   "version": "3.11.0"
  }
 },
 "nbformat": 4,
 "nbformat_minor": 5
}
